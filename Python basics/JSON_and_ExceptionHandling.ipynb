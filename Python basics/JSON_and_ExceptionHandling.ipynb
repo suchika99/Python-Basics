{
 "cells": [
  {
   "cell_type": "code",
   "execution_count": 2,
   "metadata": {},
   "outputs": [
    {
     "name": "stdout",
     "output_type": "stream",
     "text": [
      "<class 'dict'>\n",
      "{'name': 'Mr. Sam', 'age': 45}\n"
     ]
    }
   ],
   "source": [
    "import json\n",
    "\n",
    "book={\n",
    "    \"name\":\"python\",\n",
    "    \"no.of pages\":320,\n",
    "    \"authors\":[\n",
    "        {\n",
    "            \"name\":\"Mr. Sam\",\n",
    "            \"age\":45\n",
    "        },\n",
    "        {\n",
    "            \"name\":\"Ms. Suhani\",\n",
    "            \"age\":35\n",
    "        }\n",
    "    ]\n",
    "}\n",
    "\n",
    "print(type(book))\n",
    "print(book[\"authors\"][0])"
   ]
  },
  {
   "cell_type": "code",
   "execution_count": 4,
   "metadata": {},
   "outputs": [],
   "source": [
    "with open(\"myJSONfile.json\",\"w\") as p:\n",
    "    json.dump(book,p)                          #to write in a json file"
   ]
  },
  {
   "cell_type": "code",
   "execution_count": 6,
   "metadata": {},
   "outputs": [
    {
     "name": "stdout",
     "output_type": "stream",
     "text": [
      "{\"name\": \"python\", \"no.of pages\": 320, \"authors\": [{\"name\": \"Mr. Sam\", \"age\": 45}, {\"name\": \"Ms. Suhani\", \"age\": 35}]}\n",
      "<class 'str'>\n"
     ]
    }
   ],
   "source": [
    "s = json.dumps(book)       #return a string \n",
    "print(s)\n",
    "print(type(s))"
   ]
  },
  {
   "cell_type": "code",
   "execution_count": 7,
   "metadata": {},
   "outputs": [
    {
     "name": "stdout",
     "output_type": "stream",
     "text": [
      "{'name': 'python', 'no.of pages': 320, 'authors': [{'name': 'Mr. Sam', 'age': 45}, {'name': 'Ms. Suhani', 'age': 35}]}\n",
      "<class 'dict'>\n"
     ]
    }
   ],
   "source": [
    "obj=json.loads(s)            #to load json file to dictionary\n",
    "print(obj)\n",
    "print(type(obj))"
   ]
  },
  {
   "cell_type": "code",
   "execution_count": 9,
   "metadata": {},
   "outputs": [
    {
     "name": "stdout",
     "output_type": "stream",
     "text": [
      "{'name': 'python', 'no.of pages': 320, 'authors': [{'name': 'Mr. Sam', 'age': 45}, {'name': 'Ms. Suhani', 'age': 35}]}\n",
      "<class 'dict'>\n"
     ]
    }
   ],
   "source": [
    "with open(\"myJSONfile.json\",\"r\") as p:        #to read json file and extract data as dictionary\n",
    "    data=json.load(p)\n",
    "    print(data)\n",
    "    print(type(data))"
   ]
  },
  {
   "cell_type": "code",
   "execution_count": 10,
   "metadata": {},
   "outputs": [
    {
     "name": "stdout",
     "output_type": "stream",
     "text": [
      "{'authors': [{'age': 45, 'name': 'Mr. Sam'}, {'age': 35, 'name': 'Ms. Suhani'}],\n",
      " 'name': 'python',\n",
      " 'no.of pages': 320}\n"
     ]
    }
   ],
   "source": [
    "import pprint                 #pretty print\n",
    "\n",
    "with open(\"myJSONfile.json\",\"r\") as p:        \n",
    "    data=json.load(p)\n",
    "    pprint.pprint(data)          #print data in a readable manner\n"
   ]
  },
  {
   "cell_type": "code",
   "execution_count": null,
   "metadata": {},
   "outputs": [],
   "source": []
  },
  {
   "cell_type": "code",
   "execution_count": null,
   "metadata": {},
   "outputs": [],
   "source": []
  },
  {
   "cell_type": "markdown",
   "metadata": {},
   "source": [
    "Exception Handling"
   ]
  },
  {
   "cell_type": "code",
   "execution_count": 16,
   "metadata": {},
   "outputs": [
    {
     "name": "stdout",
     "output_type": "stream",
     "text": [
      "enter your namesuchika\n",
      "form submitted successfully\n",
      "it is always there\n"
     ]
    }
   ],
   "source": [
    "try:\n",
    "    #a=b\n",
    "    #10/0\n",
    "    #p=open(\"somefile.txt\",\"r\")\n",
    "    name=input(\"enter your name\")\n",
    "    if(len(name)<3):\n",
    "        raise Exception\n",
    "    \n",
    "except FileNotFoundError:                #specific exception\n",
    "    print(\"file does not exist please upload again\")\n",
    "    \n",
    "except NameError:                        #specific exception\n",
    "    print(\"b is not defined\")\n",
    "    \n",
    "except Exception:                        #generalised exception\n",
    "    print(\"something went wrong , please enter a valid name\")\n",
    "    #print(Exception)\n",
    "    \n",
    "else:\n",
    "    print(\"form submitted successfully\")     #if except blocks are not execute else block is executed\n",
    "    \n",
    "finally:                                 #always printed at the end\n",
    "    print(\"it is always there\")\n",
    "    "
   ]
  },
  {
   "cell_type": "code",
   "execution_count": null,
   "metadata": {},
   "outputs": [],
   "source": []
  },
  {
   "cell_type": "code",
   "execution_count": null,
   "metadata": {},
   "outputs": [],
   "source": []
  }
 ],
 "metadata": {
  "kernelspec": {
   "display_name": "Python 3",
   "language": "python",
   "name": "python3"
  },
  "language_info": {
   "codemirror_mode": {
    "name": "ipython",
    "version": 3
   },
   "file_extension": ".py",
   "mimetype": "text/x-python",
   "name": "python",
   "nbconvert_exporter": "python",
   "pygments_lexer": "ipython3",
   "version": "3.8.2"
  }
 },
 "nbformat": 4,
 "nbformat_minor": 4
}
