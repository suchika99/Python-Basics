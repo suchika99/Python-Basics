{
 "cells": [
  {
   "cell_type": "code",
   "execution_count": 2,
   "metadata": {},
   "outputs": [
    {
     "name": "stdout",
     "output_type": "stream",
     "text": [
      "5\n",
      "1 2 3 4 5 \n",
      "\n",
      "1 2 3 4 * \n",
      "\n",
      "1 2 3 * * * \n",
      "\n",
      "1 2 * * * * * \n",
      "\n",
      "1 * * * * * * * \n",
      "\n"
     ]
    }
   ],
   "source": [
    "#star number pattern\n",
    "n=int(input())\n",
    "\n",
    "for i in range(1,n+1):\n",
    "    count=0\n",
    "    for j in range(1,n+1):\n",
    "        if j<n-i+2:\n",
    "            print(j,end=\" \")\n",
    "        else:\n",
    "            print(\"*\",end=\" \")\n",
    "            count+=1\n",
    "            \n",
    "    for k in range(count-1):\n",
    "        print(\"*\",end=\" \")\n",
    "    print('\\n')"
   ]
  },
  {
   "cell_type": "code",
   "execution_count": 3,
   "metadata": {},
   "outputs": [
    {
     "name": "stdout",
     "output_type": "stream",
     "text": [
      "4\n",
      "5\n",
      "8\n",
      "-100\n",
      "4\n",
      "5\n",
      "8\n"
     ]
    }
   ],
   "source": [
    "#simple input\n",
    "n=int(input())\n",
    "sum=n\n",
    "l=[]\n",
    "\n",
    "while sum>=0:\n",
    "    l.append(n)\n",
    "    n=int(input())\n",
    "    sum+=n\n",
    "\n",
    "for x in l:\n",
    "    print(x) "
   ]
  },
  {
   "cell_type": "code",
   "execution_count": 14,
   "metadata": {},
   "outputs": [
    {
     "name": "stdout",
     "output_type": "stream",
     "text": [
      "4\n",
      "Not Prime\n"
     ]
    }
   ],
   "source": [
    "#prime check\n",
    "n=int(input())\n",
    "c=0\n",
    "\n",
    "for i in range(2,n):\n",
    "    if(n%i==0):\n",
    "        print(\"Not Prime\")\n",
    "        c=1\n",
    "if c==0:      \n",
    "    print(\"Prime\")\n"
   ]
  },
  {
   "cell_type": "code",
   "execution_count": 4,
   "metadata": {},
   "outputs": [
    {
     "name": "stdout",
     "output_type": "stream",
     "text": [
      "3\n",
      "1\n",
      "(0, 1) \n",
      "\n",
      "9\n",
      "(0, 3) \n",
      "\n",
      "25\n",
      "(0, 5) (3, 4) \n",
      "\n"
     ]
    }
   ],
   "source": [
    "#pythagorean challenge - brute force\n",
    "from math import sqrt\n",
    "def PythagoreanChallenge(a):\n",
    "    l=[]\n",
    "    for i in range(0,int(sqrt(a))+1):\n",
    "        for j in range(i,int(sqrt(a))+1):\n",
    "            if i*i+j*j==a:\n",
    "                m=i\n",
    "                n=j\n",
    "                l.append((m,n))\n",
    "                \n",
    "    l.sort()\n",
    "    for x in l:\n",
    "        print(x,end=\" \")\n",
    "        \n",
    "    \n",
    "   \n",
    "n=int(input())\n",
    "for i in range(n):\n",
    "    a=int(input())\n",
    "    PythagoreanChallenge(a)\n",
    "    print(\"\\n\")\n"
   ]
  },
  {
   "cell_type": "code",
   "execution_count": 1,
   "metadata": {},
   "outputs": [
    {
     "name": "stdout",
     "output_type": "stream",
     "text": [
      "2\n",
      "1 8\n",
      "2 3 5 7 \n",
      "\n",
      "4 25\n",
      "5 7 11 13 17 19 23 \n",
      "\n"
     ]
    }
   ],
   "source": [
    "#prime generator - brute force\n",
    "def isPrime(n):\n",
    "    if n<2:\n",
    "        return False\n",
    "    \n",
    "    for i in range(2,n):\n",
    "        if n%i==0:\n",
    "            return False\n",
    "        \n",
    "    return True\n",
    "\n",
    "def primeGenerator(s,e):\n",
    "    l=[]\n",
    "    for i in range(s,e+1):\n",
    "        a=isPrime(i)\n",
    "        if a==True:\n",
    "            l.append(i)\n",
    "            \n",
    "    for x in l:\n",
    "        print(x,end=\" \")\n",
    "        \n",
    "\n",
    "t=int(input())\n",
    "for i in range(t):         \n",
    "    s=[ int(x) for x in input().split()]\n",
    "    primeGenerator(s[0],s[1])\n",
    "    print(\"\\n\")\n",
    "        \n",
    "    \n",
    "\n"
   ]
  },
  {
   "cell_type": "code",
   "execution_count": 9,
   "metadata": {},
   "outputs": [
    {
     "name": "stdout",
     "output_type": "stream",
     "text": [
      "2\n",
      "4 20\n",
      "5 7 11 13 17 19 \n",
      "\n",
      "3 35\n",
      "3 5 7 11 13 17 19 23 29 31 \n",
      "\n"
     ]
    }
   ],
   "source": [
    "#prime generator better approach\n",
    "def seiveOfErastosthenes(s,n):\n",
    "    prime=[True for i in range(n+1)]\n",
    "    prime[0]=prime[1]=False\n",
    "    p=2\n",
    "    l=[]\n",
    "    while p*p<=n:\n",
    "        if prime[p]==True:\n",
    "        \n",
    "            for i in range(p*p,n+1,p):\n",
    "                prime[i]=False\n",
    "            \n",
    "        p+=1\n",
    "        \n",
    "    for p in range(s,n+1): \n",
    "        if prime[p]: \n",
    "            l.append(p)\n",
    "            \n",
    "    for x in l:\n",
    "        print(x,end=\" \")\n",
    "            \n",
    "            \n",
    "t=int(input())\n",
    "for i in range(t):         \n",
    "    s=[ int(x) for x in input().split()]\n",
    "    seiveOfErastosthenes(s[0],s[1])\n",
    "    print(\"\\n\")\n",
    "        \n",
    "            "
   ]
  },
  {
   "cell_type": "code",
   "execution_count": 22,
   "metadata": {},
   "outputs": [
    {
     "name": "stdout",
     "output_type": "stream",
     "text": [
      "5\n",
      "1 4 23 89 3\n",
      "1 3 4 23 89 "
     ]
    }
   ],
   "source": [
    "#quicksort\n",
    "def partition(l,low,high): \n",
    "    i = ( low-1 )          \n",
    "    pivot = l[high]     \n",
    "  \n",
    "    for j in range(low , high):  \n",
    "        if l[j] < pivot: \n",
    "            i = i+1 \n",
    "            t=l[i]\n",
    "            l[i]=l[j]\n",
    "            l[j]=t\n",
    "  \n",
    "    t=l[i+1]\n",
    "    l[i+1]=l[high]\n",
    "    l[high]=t\n",
    "    return ( i+1 ) \n",
    "\n",
    "def quickSort(l,low,high): \n",
    "    if low < high: \n",
    "        pi = partition(l,low,high) \n",
    "        quickSort(l, low, pi-1) \n",
    "        quickSort(l, pi+1, high) \n",
    "        \n",
    "n=int(input())        \n",
    "l=[ int(x) for x in input().split()]\n",
    "quickSort(l,0,n-1)\n",
    "\n",
    "for x in l:\n",
    "    print(x,end=\" \")"
   ]
  },
  {
   "cell_type": "code",
   "execution_count": 11,
   "metadata": {},
   "outputs": [
    {
     "name": "stdout",
     "output_type": "stream",
     "text": [
      "5\n",
      "9\n",
      "8\n",
      "2\n",
      "3\n",
      "4\n",
      "true\n"
     ]
    }
   ],
   "source": [
    "#increasing decreasing sequence\n",
    "\n",
    "n=int(input())\n",
    "prev=int(input())\n",
    "isDec=True\n",
    "c=0\n",
    "\n",
    "for i in range(n-1):\n",
    "    curr=int(input())\n",
    "    if(prev==curr):\n",
    "        c=1\n",
    "        print(\"false\")\n",
    "        break\n",
    "    elif prev>curr:\n",
    "        if isDec:\n",
    "            prev=curr\n",
    "        else:\n",
    "            c=1\n",
    "            print(\"false\")\n",
    "            break\n",
    "    elif prev<curr:\n",
    "        if isDec:\n",
    "            isDec=False\n",
    "            prev=curr\n",
    "            \n",
    "        \n",
    "if c==0:\n",
    "    print(\"true\")"
   ]
  },
  {
   "cell_type": "code",
   "execution_count": 12,
   "metadata": {},
   "outputs": [
    {
     "name": "stdout",
     "output_type": "stream",
     "text": [
      "1\n",
      "25\n",
      "(0,5) (3,4) \n"
     ]
    }
   ],
   "source": [
    "#pythagorean challenge- optimized\n",
    "\n",
    "from math import sqrt\n",
    "def PythagoreanChallenge(A):\n",
    "    l=[]\n",
    "    for a in range(0,int(sqrt(A))+1):\n",
    "        b=sqrt(A-(a*a))\n",
    "        if b==int(b) and a<=int(b):\n",
    "            m=a\n",
    "            n=int(b)\n",
    "            print(\"({},{})\".format(m,n),end=\" \")\n",
    "                \n",
    "    #l.sort()\n",
    "    #for x in l:\n",
    "     #   print(x,end=\" \")\n",
    "        \n",
    "    \n",
    "   \n",
    "n=int(input())\n",
    "for i in range(n):\n",
    "    A=int(input())\n",
    "    PythagoreanChallenge(A)\n",
    "    print('')\n"
   ]
  },
  {
   "cell_type": "code",
   "execution_count": 13,
   "metadata": {},
   "outputs": [],
   "source": [
    "#merge two sorted\n",
    "def mergeTwoSorted(L,R,arr):\n",
    "    i=j=k=0\n",
    "    while i < len(L) and j < len(R): \n",
    "            if L[i] < R[j]: \n",
    "                arr[k] = L[i] \n",
    "                i+=1\n",
    "            else: \n",
    "                arr[k] = R[j] \n",
    "                j+=1\n",
    "            k+=1\n",
    "    while i < len(L): \n",
    "            arr[k] = L[i] \n",
    "            i+=1\n",
    "            k+=1\n",
    "    while j < len(R): \n",
    "            arr[k] = R[j] \n",
    "            j+=1\n",
    "            k+=1\n",
    "            \n",
    "            "
   ]
  },
  {
   "cell_type": "code",
   "execution_count": 18,
   "metadata": {},
   "outputs": [
    {
     "name": "stdout",
     "output_type": "stream",
     "text": [
      "2 1 4 9 5\n",
      "1 2 4 5 9 "
     ]
    }
   ],
   "source": [
    "#merge sort\n",
    "def mergeTwoSorted(L,R,arr):\n",
    "    i=j=k=0\n",
    "    while i<len(L) and j<len(R): \n",
    "            if L[i]<R[j]: \n",
    "                arr[k]=L[i] \n",
    "                i+=1\n",
    "            else: \n",
    "                arr[k]=R[j] \n",
    "                j+=1\n",
    "            k+=1\n",
    "    while i<len(L): \n",
    "            arr[k]=L[i] \n",
    "            i+=1\n",
    "            k+=1\n",
    "    while j<len(R): \n",
    "            arr[k]=R[j] \n",
    "            j+=1\n",
    "            k+=1\n",
    "\n",
    "def mergeSort(arr):\n",
    "    if len(arr)>1: \n",
    "        mid=len(arr)//2 \n",
    "        L=arr[:mid]  \n",
    "        R=arr[mid:] \n",
    "  \n",
    "        mergeSort(L)\n",
    "        mergeSort(R)\n",
    "        mergeTwoSorted(L,R,arr)\n",
    "        return arr\n",
    "    \n",
    "        \n",
    "n=int(input())        \n",
    "arr=[int(x) for x in input().split()]\n",
    "arr=mergeSort(arr)\n",
    "for x in arr:\n",
    "    print(x,end=\" \")"
   ]
  },
  {
   "cell_type": "code",
   "execution_count": null,
   "metadata": {},
   "outputs": [],
   "source": []
  }
 ],
 "metadata": {
  "kernelspec": {
   "display_name": "Python 3",
   "language": "python",
   "name": "python3"
  },
  "language_info": {
   "codemirror_mode": {
    "name": "ipython",
    "version": 3
   },
   "file_extension": ".py",
   "mimetype": "text/x-python",
   "name": "python",
   "nbconvert_exporter": "python",
   "pygments_lexer": "ipython3",
   "version": "3.8.2"
  }
 },
 "nbformat": 4,
 "nbformat_minor": 4
}
