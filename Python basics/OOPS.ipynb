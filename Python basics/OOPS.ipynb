{
 "cells": [
  {
   "cell_type": "code",
   "execution_count": 6,
   "metadata": {},
   "outputs": [
    {
     "name": "stdout",
     "output_type": "stream",
     "text": [
      "120\n",
      "5\n",
      "6\n",
      "1.0\n",
      "4.0\n"
     ]
    }
   ],
   "source": [
    "#math module\n",
    "import math\n",
    "\n",
    "print(math.factorial(5))\n",
    "print(math.floor(16/3))\n",
    "print(math.gcd(12,6))\n",
    "print(math.log(math.e))\n",
    "print(math.log(16,2))"
   ]
  },
  {
   "cell_type": "code",
   "execution_count": 7,
   "metadata": {},
   "outputs": [
    {
     "name": "stdout",
     "output_type": "stream",
     "text": [
      "22\n",
      "53\n",
      "2\n"
     ]
    }
   ],
   "source": [
    "print(sum([1,2,4,5,3,7]))\n",
    "print(max([34,53,2,6]))\n",
    "print(min([34,53,2,6]))"
   ]
  },
  {
   "cell_type": "code",
   "execution_count": 3,
   "metadata": {},
   "outputs": [],
   "source": [
    "#CLASSES\n",
    "\n",
    "class Person():\n",
    "    #common for all data members\n",
    "    nationality=\"Indian\"\n",
    "    \n",
    "    def __init__(self,name,age):\n",
    "        self.name=name\n",
    "        self.age=age\n",
    "    \n",
    "    def printdata(self):\n",
    "        print(\"My name is %s and I am %d years old.\"%(self.name,self.age))\n",
    "        print(\"I am \"+self.nationality)"
   ]
  },
  {
   "cell_type": "code",
   "execution_count": 4,
   "metadata": {},
   "outputs": [
    {
     "name": "stdout",
     "output_type": "stream",
     "text": [
      "My name is Suchika and I am 20 years old.\n",
      "I am Indian\n"
     ]
    }
   ],
   "source": [
    "p=Person(\"Suchika\",20)\n",
    "p.printdata()"
   ]
  },
  {
   "cell_type": "code",
   "execution_count": 19,
   "metadata": {},
   "outputs": [],
   "source": [
    "class dog():\n",
    "    color=\"brown\"\n",
    "    \n",
    "    def __init__(self,breed):\n",
    "        \"\"\"This function initialises dog's breed\"\"\"     #used to write documentation\n",
    "        self.activities=[]\n",
    "        self.breed=breed\n",
    "    \n",
    "    def __secret(self):           #private function of class\n",
    "        print(\"%s is doing secret activity\"%(self.breed))\n",
    "        \n",
    "    def addActivity(self,act):\n",
    "        self.activities.append(act)\n",
    "        \n",
    "    def doActivity(self):\n",
    "        print(self.breed)\n",
    "        print(self.color)\n",
    "        print(self.activities)\n",
    "        self.__secret()        #can only be called from class functions"
   ]
  },
  {
   "cell_type": "code",
   "execution_count": 21,
   "metadata": {},
   "outputs": [
    {
     "name": "stdout",
     "output_type": "stream",
     "text": [
      "golden retriever\n",
      "brown\n",
      "['high jump', 'roll over']\n",
      "golden retriever is doing secret activity\n",
      "pug\n",
      "brown\n",
      "['hand shake', 'bathing']\n",
      "pug is doing secret activity\n"
     ]
    }
   ],
   "source": [
    "d1=dog(\"golden retriever\")\n",
    "d2=dog(\"pug\")\n",
    "\n",
    "d1.addActivity(\"high jump\")\n",
    "d2.addActivity(\"hand shake\")\n",
    "\n",
    "d1.addActivity(\"roll over\")\n",
    "d2.addActivity(\"bathing\")\n",
    "\n",
    "d1.doActivity()\n",
    "d2.doActivity()\n"
   ]
  },
  {
   "cell_type": "code",
   "execution_count": 27,
   "metadata": {},
   "outputs": [
    {
     "name": "stdout",
     "output_type": "stream",
     "text": [
      "Init School Member Mr. Bean\n",
      "Init Teacher Mr. Bean\n",
      "Name: Mr. Bean Age: 45\n",
      "Salaray is: 69000\n",
      "Init School Member sam\n",
      "Init Student sam\n",
      "Name: sam Age: 12\n",
      "Percentage is: 95\n"
     ]
    }
   ],
   "source": [
    "#INHERITENCE\n",
    "class SchoolMember():\n",
    "    def __init__(self,name,age):\n",
    "        self.name=name\n",
    "        self.age=age\n",
    "        print(\"Init School Member %s\"%self.name)\n",
    "        \n",
    "    def introduce(self):\n",
    "        print(\"Name: %s Age: %d\"%(self.name,self.age))\n",
    "        \n",
    "        \n",
    "class teacher(SchoolMember):\n",
    "    def __init__(self,name,age,salary):\n",
    "        SchoolMember.__init__(self,name,age)\n",
    "        self.salary=salary\n",
    "        print(\"Init Teacher %s\"%self.name)\n",
    "        \n",
    "    def introduce(self):\n",
    "        SchoolMember.introduce(self)\n",
    "        print(\"Salaray is: %d\"%self.salary)\n",
    "        \n",
    "class student(SchoolMember):\n",
    "    def __init__(self,name,age,marks):\n",
    "        SchoolMember.__init__(self,name,age)\n",
    "        self.marks=marks\n",
    "        print(\"Init Student %s\"%self.name)\n",
    "        \n",
    "    def introduce(self):\n",
    "        SchoolMember.introduce(self)\n",
    "        print(\"Percentage is: %d\"%self.marks)\n",
    "        \n",
    "        \n",
    "t=teacher(\"Mr. Bean\",45,69000)\n",
    "t.introduce()\n",
    "\n",
    "s=student(\"sam\",12,95)\n",
    "s.introduce()"
   ]
  },
  {
   "cell_type": "markdown",
   "metadata": {},
   "source": [
    "#### Dunders or Magic Functions"
   ]
  },
  {
   "cell_type": "code",
   "execution_count": 1,
   "metadata": {},
   "outputs": [],
   "source": [
    "class car:\n",
    "    def __init__(self,model,milege):\n",
    "        self.model=model\n",
    "        self.milege=milege\n",
    "        \n",
    "    def __str__(self):\n",
    "        return \"{} {}\".format(self.model,self.milege)\n",
    "    \n",
    "    def __eq__(self,other):\n",
    "        return (self.milege==other.milege)\n",
    "    \n",
    "    def __repr__(self):\n",
    "        return \"{}\".format(self.model)\n",
    "    \n",
    "    def __add__(self,other):\n",
    "        return self.milege+other.milege"
   ]
  },
  {
   "cell_type": "code",
   "execution_count": 5,
   "metadata": {},
   "outputs": [],
   "source": [
    "c1=car(\"a\",2)\n",
    "c2=car(\"b\",2)"
   ]
  },
  {
   "cell_type": "code",
   "execution_count": 7,
   "metadata": {},
   "outputs": [
    {
     "data": {
      "text/plain": [
       "4"
      ]
     },
     "execution_count": 7,
     "metadata": {},
     "output_type": "execute_result"
    }
   ],
   "source": [
    "c1+c2"
   ]
  },
  {
   "cell_type": "code",
   "execution_count": 6,
   "metadata": {},
   "outputs": [
    {
     "data": {
      "text/plain": [
       "True"
      ]
     },
     "execution_count": 6,
     "metadata": {},
     "output_type": "execute_result"
    }
   ],
   "source": [
    "c1==c2"
   ]
  },
  {
   "cell_type": "code",
   "execution_count": 8,
   "metadata": {},
   "outputs": [],
   "source": [
    "#we wanna use cout<<\"suchika\" in python\n",
    "class ostream:\n",
    "    def __lshift__(self,other):\n",
    "        print(other,end=\" \")\n",
    "        return self"
   ]
  },
  {
   "cell_type": "code",
   "execution_count": 9,
   "metadata": {},
   "outputs": [],
   "source": [
    "cout=ostream()"
   ]
  },
  {
   "cell_type": "code",
   "execution_count": 10,
   "metadata": {},
   "outputs": [
    {
     "name": "stdout",
     "output_type": "stream",
     "text": [
      "suchika "
     ]
    },
    {
     "data": {
      "text/plain": [
       "<__main__.ostream at 0x64425e0>"
      ]
     },
     "execution_count": 10,
     "metadata": {},
     "output_type": "execute_result"
    }
   ],
   "source": [
    "cout<<\"suchika\""
   ]
  },
  {
   "cell_type": "code",
   "execution_count": 11,
   "metadata": {},
   "outputs": [
    {
     "name": "stdout",
     "output_type": "stream",
     "text": [
      "suchika sachdeva "
     ]
    },
    {
     "data": {
      "text/plain": [
       "<__main__.ostream at 0x64425e0>"
      ]
     },
     "execution_count": 11,
     "metadata": {},
     "output_type": "execute_result"
    }
   ],
   "source": [
    "cout<<\"suchika\"<<\"sachdeva\""
   ]
  },
  {
   "cell_type": "markdown",
   "metadata": {},
   "source": [
    "#### method resolution order (MRO)"
   ]
  },
  {
   "cell_type": "code",
   "execution_count": 12,
   "metadata": {},
   "outputs": [],
   "source": [
    "class A:\n",
    "    x=10\n",
    "class B(A):\n",
    "    pass\n",
    "class C(A):\n",
    "    pass\n",
    "class D(C):\n",
    "    x=5\n",
    "class E(B,D):\n",
    "    pass"
   ]
  },
  {
   "cell_type": "code",
   "execution_count": 13,
   "metadata": {},
   "outputs": [
    {
     "data": {
      "text/plain": [
       "5"
      ]
     },
     "execution_count": 13,
     "metadata": {},
     "output_type": "execute_result"
    }
   ],
   "source": [
    "e=E()\n",
    "e.x"
   ]
  },
  {
   "cell_type": "code",
   "execution_count": 16,
   "metadata": {},
   "outputs": [
    {
     "data": {
      "text/plain": [
       "(__main__.E, __main__.B, __main__.D, __main__.C, __main__.A, object)"
      ]
     },
     "execution_count": 16,
     "metadata": {},
     "output_type": "execute_result"
    }
   ],
   "source": [
    "E.__mro__"
   ]
  },
  {
   "cell_type": "code",
   "execution_count": null,
   "metadata": {},
   "outputs": [],
   "source": []
  }
 ],
 "metadata": {
  "kernelspec": {
   "display_name": "Python 3",
   "language": "python",
   "name": "python3"
  },
  "language_info": {
   "codemirror_mode": {
    "name": "ipython",
    "version": 3
   },
   "file_extension": ".py",
   "mimetype": "text/x-python",
   "name": "python",
   "nbconvert_exporter": "python",
   "pygments_lexer": "ipython3",
   "version": "3.8.2"
  }
 },
 "nbformat": 4,
 "nbformat_minor": 4
}
