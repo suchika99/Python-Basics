{
 "cells": [
  {
   "cell_type": "code",
   "execution_count": 1,
   "metadata": {},
   "outputs": [
    {
     "name": "stdout",
     "output_type": "stream",
     "text": [
      "this is a sample file\n",
      "hello everyone\n",
      "i am suchika and i love chole bhature\n",
      "lets party.\n"
     ]
    }
   ],
   "source": [
    "#reading a file\n",
    "f=open(\"hello.txt\",\"r\")\n",
    "print(f.read())"
   ]
  },
  {
   "cell_type": "code",
   "execution_count": 4,
   "metadata": {},
   "outputs": [
    {
     "data": {
      "text/plain": [
       "False"
      ]
     },
     "execution_count": 4,
     "metadata": {},
     "output_type": "execute_result"
    }
   ],
   "source": [
    "f.closed          #checks whether file is open or close"
   ]
  },
  {
   "cell_type": "code",
   "execution_count": 7,
   "metadata": {},
   "outputs": [
    {
     "name": "stdout",
     "output_type": "stream",
     "text": [
      "is a sample file\n",
      "hello everyone\n",
      "i am suchika and i love chole bhature\n",
      "lets party.\n"
     ]
    }
   ],
   "source": [
    "f.seek(5)         #to read from a particular index\n",
    "print(f.read())"
   ]
  },
  {
   "cell_type": "code",
   "execution_count": 8,
   "metadata": {},
   "outputs": [
    {
     "name": "stdout",
     "output_type": "stream",
     "text": [
      "True\n"
     ]
    }
   ],
   "source": [
    "f.close()       #to close a file\n",
    "print(f.closed)"
   ]
  },
  {
   "cell_type": "code",
   "execution_count": 9,
   "metadata": {},
   "outputs": [],
   "source": [
    "#opens the file in write mode\n",
    "f=open(\"hello.txt\",\"w\")\n",
    "name=\"suchika\"\n",
    "f.write(name)         #to write a string in file (initial content is overwritten)\n",
    "\n",
    "l=[\"yo yo \\n\",\"hahaha \\n\",\"balle balle \\n\"]\n",
    "f.writelines(l)        #to write multiple lines in file\n",
    "f.close()\n"
   ]
  },
  {
   "cell_type": "code",
   "execution_count": 13,
   "metadata": {},
   "outputs": [
    {
     "name": "stdout",
     "output_type": "stream",
     "text": [
      "suchikayo yo \n",
      "hahaha \n",
      "balle balle \n",
      "\n"
     ]
    }
   ],
   "source": [
    "f=open(\"hello.txt\",\"r\")\n",
    "print(f.read())"
   ]
  },
  {
   "cell_type": "code",
   "execution_count": 17,
   "metadata": {},
   "outputs": [
    {
     "data": {
      "text/plain": [
       "'suchikayo yo \\n'"
      ]
     },
     "execution_count": 17,
     "metadata": {},
     "output_type": "execute_result"
    }
   ],
   "source": [
    "f=open(\"hello.txt\",\"r\")\n",
    "f.readline()"
   ]
  },
  {
   "cell_type": "code",
   "execution_count": 18,
   "metadata": {},
   "outputs": [
    {
     "name": "stdout",
     "output_type": "stream",
     "text": [
      "['suchikayo yo \\n', 'hahaha \\n', 'balle balle \\n']\n",
      "<class 'list'>\n"
     ]
    }
   ],
   "source": [
    "f=open(\"hello.txt\",\"r\")\n",
    "l=f.readlines()\n",
    "print(l)\n",
    "print(type(l))"
   ]
  },
  {
   "cell_type": "code",
   "execution_count": 19,
   "metadata": {},
   "outputs": [
    {
     "name": "stdout",
     "output_type": "stream",
     "text": [
      "suchikayo yo \n",
      "hahaha \n",
      "balle balle \n",
      "\n"
     ]
    }
   ],
   "source": [
    "#READING USING WITH OPEN\n",
    "with open(\"hello.txt\",\"r\") as f:\n",
    "    print(f.read())\n",
    "    #automatically closes the file to ensure clean up\n",
    "    "
   ]
  },
  {
   "cell_type": "code",
   "execution_count": 20,
   "metadata": {},
   "outputs": [
    {
     "data": {
      "text/plain": [
       "True"
      ]
     },
     "execution_count": 20,
     "metadata": {},
     "output_type": "execute_result"
    }
   ],
   "source": [
    "f.closed"
   ]
  },
  {
   "cell_type": "code",
   "execution_count": null,
   "metadata": {},
   "outputs": [],
   "source": []
  }
 ],
 "metadata": {
  "kernelspec": {
   "display_name": "Python 3",
   "language": "python",
   "name": "python3"
  },
  "language_info": {
   "codemirror_mode": {
    "name": "ipython",
    "version": 3
   },
   "file_extension": ".py",
   "mimetype": "text/x-python",
   "name": "python",
   "nbconvert_exporter": "python",
   "pygments_lexer": "ipython3",
   "version": "3.8.2"
  }
 },
 "nbformat": 4,
 "nbformat_minor": 4
}
